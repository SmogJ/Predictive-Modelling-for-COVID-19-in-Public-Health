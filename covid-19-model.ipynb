{
 "cells": [
  {
   "cell_type": "code",
   "execution_count": null,
   "metadata": {
    "_cell_guid": "b1076dfc-b9ad-4769-8c92-a6c4dae69d19",
    "_uuid": "8f2839f25d086af736a60e9eeb907d3b93b6e0e5",
    "execution": {
     "iopub.execute_input": "2024-11-30T06:12:37.471411Z",
     "iopub.status.busy": "2024-11-30T06:12:37.470993Z",
     "iopub.status.idle": "2024-11-30T06:12:37.491531Z",
     "shell.execute_reply": "2024-11-30T06:12:37.489801Z",
     "shell.execute_reply.started": "2024-11-30T06:12:37.471374Z"
    },
    "trusted": true
   },
   "outputs": [],
   "source": [
    "# This Python 3 environment comes with many helpful analytics libraries installed\n",
    "# It is defined by the kaggle/python Docker image: https://github.com/kaggle/docker-python\n",
    "# For example, here's several helpful packages to load\n",
    "\n",
    "import numpy as np # linear algebra\n",
    "import pandas as pd # data processing, CSV file I/O (e.g. pd.read_csv)\n",
    "# import glob\n",
    "# import gc\n",
    "\n",
    "import seaborn as sns\n",
    "from seaborn import objects\n",
    "sns.set_theme()\n",
    "import matplotlib.pyplot as plt\n",
    "import plotly.express as px\n",
    "import plotly.io as pio\n",
    "\n",
    "# Input data files are available in the read-only \"../input/\" directory\n",
    "# For example, running this (by clicking run or pressing Shift+Enter) will list all files under the input directory\n",
    "\n",
    "import os\n",
    "# for dirname, _, filenames in os.walk('/kaggle/input'):\n",
    "#     for filename in filenames:\n",
    "#         print(os.path.join(dirname, filename))\n",
    "\n",
    "# You can write up to 20GB to the current directory (/kaggle/working/) that gets preserved as output when you create a version using \"Save & Run All\" \n",
    "# You can also write temporary files to /kaggle/temp/, but they won't be saved outside of the current session"
   ]
  },
  {
   "cell_type": "markdown",
   "metadata": {},
   "source": [
    "## Import Dataset"
   ]
  },
  {
   "cell_type": "code",
   "execution_count": null,
   "metadata": {
    "execution": {
     "iopub.execute_input": "2024-11-30T06:12:37.494008Z",
     "iopub.status.busy": "2024-11-30T06:12:37.493611Z",
     "iopub.status.idle": "2024-11-30T06:12:37.582724Z",
     "shell.execute_reply": "2024-11-30T06:12:37.581548Z",
     "shell.execute_reply.started": "2024-11-30T06:12:37.493969Z"
    },
    "trusted": true
   },
   "outputs": [],
   "source": [
    "df= pd.read_csv(\"covid_19_clean_complete.csv\").copy()"
   ]
  },
  {
   "cell_type": "markdown",
   "metadata": {},
   "source": [
    "## Data Description and Summary"
   ]
  },
  {
   "cell_type": "code",
   "execution_count": null,
   "metadata": {
    "execution": {
     "iopub.execute_input": "2024-11-30T06:12:37.584563Z",
     "iopub.status.busy": "2024-11-30T06:12:37.584121Z",
     "iopub.status.idle": "2024-11-30T06:12:37.600434Z",
     "shell.execute_reply": "2024-11-30T06:12:37.599184Z",
     "shell.execute_reply.started": "2024-11-30T06:12:37.584512Z"
    },
    "trusted": true
   },
   "outputs": [],
   "source": [
    "df.head()"
   ]
  },
  {
   "cell_type": "code",
   "execution_count": null,
   "metadata": {
    "execution": {
     "iopub.execute_input": "2024-11-30T06:12:37.604390Z",
     "iopub.status.busy": "2024-11-30T06:12:37.603296Z",
     "iopub.status.idle": "2024-11-30T06:12:37.620581Z",
     "shell.execute_reply": "2024-11-30T06:12:37.619418Z",
     "shell.execute_reply.started": "2024-11-30T06:12:37.604333Z"
    },
    "trusted": true
   },
   "outputs": [],
   "source": [
    "df.tail()"
   ]
  },
  {
   "cell_type": "code",
   "execution_count": null,
   "metadata": {},
   "outputs": [],
   "source": [
    "df.shape"
   ]
  },
  {
   "cell_type": "code",
   "execution_count": null,
   "metadata": {
    "execution": {
     "iopub.execute_input": "2024-11-30T06:12:37.622863Z",
     "iopub.status.busy": "2024-11-30T06:12:37.622320Z",
     "iopub.status.idle": "2024-11-30T06:12:37.644431Z",
     "shell.execute_reply": "2024-11-30T06:12:37.643009Z",
     "shell.execute_reply.started": "2024-11-30T06:12:37.622814Z"
    },
    "trusted": true
   },
   "outputs": [],
   "source": [
    "# Convert Date to Datetime\n",
    "df[\"Date\"]= pd.to_datetime(df[\"Date\"])"
   ]
  },
  {
   "cell_type": "code",
   "execution_count": null,
   "metadata": {
    "execution": {
     "iopub.execute_input": "2024-11-30T06:12:37.648042Z",
     "iopub.status.busy": "2024-11-30T06:12:37.647605Z",
     "iopub.status.idle": "2024-11-30T06:12:37.669651Z",
     "shell.execute_reply": "2024-11-30T06:12:37.668412Z",
     "shell.execute_reply.started": "2024-11-30T06:12:37.647987Z"
    },
    "trusted": true
   },
   "outputs": [],
   "source": [
    "df.info()"
   ]
  },
  {
   "cell_type": "code",
   "execution_count": null,
   "metadata": {
    "execution": {
     "iopub.execute_input": "2024-11-30T06:12:37.671653Z",
     "iopub.status.busy": "2024-11-30T06:12:37.671176Z",
     "iopub.status.idle": "2024-11-30T06:12:37.710763Z",
     "shell.execute_reply": "2024-11-30T06:12:37.709568Z",
     "shell.execute_reply.started": "2024-11-30T06:12:37.671601Z"
    },
    "trusted": true
   },
   "outputs": [],
   "source": [
    "df_obj= df.drop([\"Date\"], axis=1).select_dtypes(object)\n",
    "df_obj.describe()"
   ]
  },
  {
   "cell_type": "code",
   "execution_count": null,
   "metadata": {
    "execution": {
     "iopub.execute_input": "2024-11-30T06:12:37.712889Z",
     "iopub.status.busy": "2024-11-30T06:12:37.712527Z",
     "iopub.status.idle": "2024-11-30T06:12:37.745303Z",
     "shell.execute_reply": "2024-11-30T06:12:37.744012Z",
     "shell.execute_reply.started": "2024-11-30T06:12:37.712855Z"
    },
    "trusted": true
   },
   "outputs": [],
   "source": [
    "df_int= df.select_dtypes(int)\n",
    "df_int.describe()"
   ]
  },
  {
   "cell_type": "code",
   "execution_count": null,
   "metadata": {
    "execution": {
     "iopub.execute_input": "2024-11-30T06:12:37.747467Z",
     "iopub.status.busy": "2024-11-30T06:12:37.747000Z",
     "iopub.status.idle": "2024-11-30T06:12:37.775254Z",
     "shell.execute_reply": "2024-11-30T06:12:37.774013Z",
     "shell.execute_reply.started": "2024-11-30T06:12:37.747414Z"
    },
    "trusted": true
   },
   "outputs": [],
   "source": [
    "df.duplicated().sum()"
   ]
  },
  {
   "cell_type": "code",
   "execution_count": null,
   "metadata": {
    "execution": {
     "iopub.execute_input": "2024-11-30T06:12:37.777491Z",
     "iopub.status.busy": "2024-11-30T06:12:37.777152Z",
     "iopub.status.idle": "2024-11-30T06:12:37.795346Z",
     "shell.execute_reply": "2024-11-30T06:12:37.794130Z",
     "shell.execute_reply.started": "2024-11-30T06:12:37.777457Z"
    },
    "trusted": true
   },
   "outputs": [],
   "source": [
    "df.isna().sum()"
   ]
  },
  {
   "cell_type": "code",
   "execution_count": null,
   "metadata": {
    "execution": {
     "iopub.execute_input": "2024-11-30T06:12:37.803621Z",
     "iopub.status.busy": "2024-11-30T06:12:37.803142Z",
     "iopub.status.idle": "2024-11-30T06:12:37.844235Z",
     "shell.execute_reply": "2024-11-30T06:12:37.843212Z",
     "shell.execute_reply.started": "2024-11-30T06:12:37.803582Z"
    },
    "trusted": true
   },
   "outputs": [],
   "source": [
    "df[\"Year\"], df[\"Month\"], df[\"Day\"]= df.Date.dt.year, df.Date.dt.month_name(), df.Date.dt.day_name()"
   ]
  },
  {
   "cell_type": "code",
   "execution_count": null,
   "metadata": {
    "execution": {
     "iopub.execute_input": "2024-11-30T06:12:37.846856Z",
     "iopub.status.busy": "2024-11-30T06:12:37.846357Z",
     "iopub.status.idle": "2024-11-30T06:12:37.863513Z",
     "shell.execute_reply": "2024-11-30T06:12:37.862039Z",
     "shell.execute_reply.started": "2024-11-30T06:12:37.846807Z"
    },
    "trusted": true
   },
   "outputs": [],
   "source": [
    "df.head()"
   ]
  },
  {
   "cell_type": "code",
   "execution_count": null,
   "metadata": {
    "execution": {
     "iopub.execute_input": "2024-11-30T06:12:37.865419Z",
     "iopub.status.busy": "2024-11-30T06:12:37.865050Z",
     "iopub.status.idle": "2024-11-30T06:12:37.881261Z",
     "shell.execute_reply": "2024-11-30T06:12:37.879941Z",
     "shell.execute_reply.started": "2024-11-30T06:12:37.865387Z"
    },
    "trusted": true
   },
   "outputs": [],
   "source": [
    "df.Month.unique()"
   ]
  },
  {
   "cell_type": "code",
   "execution_count": null,
   "metadata": {
    "execution": {
     "iopub.execute_input": "2024-11-30T06:12:37.883983Z",
     "iopub.status.busy": "2024-11-30T06:12:37.883588Z",
     "iopub.status.idle": "2024-11-30T06:12:37.900634Z",
     "shell.execute_reply": "2024-11-30T06:12:37.899208Z",
     "shell.execute_reply.started": "2024-11-30T06:12:37.883939Z"
    },
    "trusted": true
   },
   "outputs": [],
   "source": [
    "df.Day.unique()"
   ]
  },
  {
   "cell_type": "code",
   "execution_count": null,
   "metadata": {
    "execution": {
     "iopub.execute_input": "2024-11-30T06:12:37.902785Z",
     "iopub.status.busy": "2024-11-30T06:12:37.902383Z",
     "iopub.status.idle": "2024-11-30T06:12:37.913326Z",
     "shell.execute_reply": "2024-11-30T06:12:37.912256Z",
     "shell.execute_reply.started": "2024-11-30T06:12:37.902741Z"
    },
    "trusted": true
   },
   "outputs": [],
   "source": [
    "df.Year.unique()"
   ]
  },
  {
   "cell_type": "markdown",
   "metadata": {},
   "source": [
    "## Data Exploration and Visualization"
   ]
  },
  {
   "cell_type": "code",
   "execution_count": null,
   "metadata": {},
   "outputs": [],
   "source": [
    "corr_df= df_int.corr()\n",
    "corr_df\n",
    "sns.heatmap(corr_df)\n",
    "plt.title(\"CORRELATION OF FOUR IMPORTATN COVID-19 DATA COLUMNS\")\n",
    "plt.savefig(\"plots/correlation viz.png\")"
   ]
  },
  {
   "cell_type": "code",
   "execution_count": null,
   "metadata": {},
   "outputs": [],
   "source": [
    "# Create scatter map for confirmed cases\n",
    "fig = px.scatter_geo(df, lat='Lat', lon='Long', color='Confirmed',\n",
    "                     hover_name='Country/Region', size='Confirmed',\n",
    "                     title='Confirmed Cases Globally')\n",
    "\n",
    "# Save plot\n",
    "pio.write_image(fig=fig, file=\"plots/confirmed_cases.png\", format=\"png\", width=1000, height=600)\n",
    "fig.show()"
   ]
  },
  {
   "cell_type": "code",
   "execution_count": null,
   "metadata": {},
   "outputs": [],
   "source": [
    "# Create scatter map for deaths\n",
    "fig = px.scatter_geo(df, lat='Lat', lon='Long', color='Deaths',\n",
    "                     hover_name='Country/Region', size='Deaths',\n",
    "                     title='Deaths Globally')\n",
    "\n",
    "# Save plot\n",
    "pio.write_image(fig=fig, file=\"plots/death_cases.png\", format=\"png\", width=1000, height=600)\n",
    "fig.show()"
   ]
  },
  {
   "cell_type": "code",
   "execution_count": null,
   "metadata": {},
   "outputs": [],
   "source": [
    "# Create scatter map for confirmed cases\n",
    "fig = px.scatter_geo(df, lat='Lat', lon='Long', color='Recovered',\n",
    "                     hover_name='Country/Region', size='Recovered',\n",
    "                     title='Recovery Globally')\n",
    "\n",
    "# Save plot\n",
    "pio.write_image(fig=fig, file=\"plots/recovered_cases.png\", format=\"png\", width=1000, height=600)\n",
    "fig.show()"
   ]
  },
  {
   "cell_type": "code",
   "execution_count": null,
   "metadata": {},
   "outputs": [],
   "source": [
    "# Group the dataset by 'Country/Region' and sum the relevant columns\n",
    "df_grouped = df.groupby('Country/Region')[['Confirmed', 'Active', 'Recovered', 'Deaths']].sum().reset_index()\n",
    "\n",
    "# Sort the DataFrame by total confirmed cases in descending order\n",
    "df_grouped = df_grouped.sort_values(by='Confirmed', ascending=False)\n",
    "\n",
    "# Select the top 10 countries\n",
    "top_10_countries = df_grouped.head(10)\n",
    "\n",
    "# Display the result\n",
    "top_10_countries"
   ]
  },
  {
   "cell_type": "code",
   "execution_count": null,
   "metadata": {
    "execution": {
     "iopub.execute_input": "2024-11-30T06:26:31.781222Z",
     "iopub.status.busy": "2024-11-30T06:26:31.780836Z",
     "iopub.status.idle": "2024-11-30T06:26:32.582568Z",
     "shell.execute_reply": "2024-11-30T06:26:32.581509Z",
     "shell.execute_reply.started": "2024-11-30T06:26:31.781187Z"
    },
    "trusted": true
   },
   "outputs": [],
   "source": [
    "fig, ax= plt.subplots()\n",
    "sns.lineplot(df, x=\"Month\", y=\"Confirmed\")\n",
    "ax.set_title(\"GLOBAL SPREAD OF COVID-19\")\n",
    "plt.savefig(\"plots/GLOBAL SPREAD OF COVID-19.png\")"
   ]
  },
  {
   "cell_type": "code",
   "execution_count": null,
   "metadata": {
    "execution": {
     "iopub.execute_input": "2024-11-30T06:55:02.593273Z",
     "iopub.status.busy": "2024-11-30T06:55:02.592854Z",
     "iopub.status.idle": "2024-11-30T06:55:04.517429Z",
     "shell.execute_reply": "2024-11-30T06:55:04.515792Z",
     "shell.execute_reply.started": "2024-11-30T06:55:02.593235Z"
    },
    "trusted": true
   },
   "outputs": [],
   "source": [
    "fig, ax = plt.subplots(figsize=(10, 6))\n",
    "sns.lineplot(df, x=\"Month\", y=\"Confirmed\", hue= \"WHO Region\", style=\"WHO Region\")\n",
    "ax.set_title(\"TREND OF VIRAL CASES ACROSS CONTINENTS\")\n",
    "plt.savefig(\"plots/TREND OF VIRAL CASES ACROSS CONTINENTS.png\")"
   ]
  },
  {
   "cell_type": "code",
   "execution_count": null,
   "metadata": {
    "execution": {
     "iopub.execute_input": "2024-11-30T06:37:38.997981Z",
     "iopub.status.busy": "2024-11-30T06:37:38.996935Z",
     "iopub.status.idle": "2024-11-30T06:37:39.342106Z",
     "shell.execute_reply": "2024-11-30T06:37:39.340744Z",
     "shell.execute_reply.started": "2024-11-30T06:37:38.997933Z"
    },
    "trusted": true
   },
   "outputs": [],
   "source": [
    "df_sorted = df.sort_values(by=\"Confirmed\", ascending=False)\n",
    "fig,ax= plt.subplots()\n",
    "sns.barplot(df_sorted, x= \"Confirmed\", y=\"WHO Region\", hue=\"WHO Region\", errorbar=None)\n",
    "ax.set_title(\"Confirmed Cases by Continent\")\n",
    "plt.xlabel(\"Confirmed Cases\")\n",
    "plt.savefig(\"plots/Confirmed Cases by Continent.png\")"
   ]
  },
  {
   "cell_type": "code",
   "execution_count": null,
   "metadata": {
    "trusted": true
   },
   "outputs": [],
   "source": [
    "fig, ax = plt.subplots(2, 2, figsize=(10, 10))\n",
    "\n",
    "sns.kdeplot(data=df_grouped, x=\"Confirmed\", ax=ax[0,0]).set(ylabel=\"Frequency\")\n",
    "sns.kdeplot(data=df_grouped, x=\"Deaths\", ax=ax[0,1]).set(ylabel=\"Frequency\")\n",
    "sns.kdeplot(data=df_grouped, x=\"Recovered\", ax=ax[1,0]).set(ylabel=\"Frequency\")\n",
    "sns.kdeplot(data=df_grouped, x=\"Active\", ax=ax[1,1]).set(ylabel=\"Frequency\")\n",
    "\n",
    "fig.suptitle(\"DISTRIBUTION OF CASES\")\n",
    "plt.savefig(\"plots/DISTRIBUTION OF COVID-19 CASES.png\")"
   ]
  },
  {
   "cell_type": "markdown",
   "metadata": {},
   "source": [
    "the distribution for cases are skewed to the left, with outliers"
   ]
  },
  {
   "cell_type": "code",
   "execution_count": null,
   "metadata": {},
   "outputs": [],
   "source": [
    "fig, ax = plt.subplots(figsize=(10, 6))\n",
    "sns.barplot(data=top_10_countries, x='Confirmed', y='Country/Region')\n",
    "\n",
    "ax.set_title('Top 10 Countries with Highest Confirmed Cases')\n",
    "plt.xlabel('Number of Confirmed Cases')\n",
    "plt.ylabel('Country/Region')\n",
    "\n",
    "plt.savefig('plots/Top_10_Countries_Confirmed_Cases.png')\n",
    "plt.show()"
   ]
  },
  {
   "cell_type": "code",
   "execution_count": null,
   "metadata": {},
   "outputs": [],
   "source": [
    "fig, ax= plt.subplots()\n",
    "sns.lineplot(df, x=\"Month\", y=\"Deaths\")\n",
    "# ax.set_title(\"GLOBAL SPREAD OF COVID-19\")\n",
    "# plt.savefig(\"plots/GLOBAL SPREAD OF COVID-19.png\")"
   ]
  },
  {
   "cell_type": "markdown",
   "metadata": {},
   "source": [
    "## Feature Engineering"
   ]
  },
  {
   "cell_type": "code",
   "execution_count": null,
   "metadata": {},
   "outputs": [],
   "source": [
    "# Mortality Ratios\n",
    "df['Mortality Ratio'] = df['Deaths'] / df['Confirmed'] * 100"
   ]
  },
  {
   "cell_type": "code",
   "execution_count": null,
   "metadata": {},
   "outputs": [],
   "source": [
    "import pandas as pd\n",
    "\n",
    "# Assuming your DataFrame is sorted by date\n",
    "df= df.sort_values(by='Date', ascending=False)\n",
    "df['Daily Growth Rate'] = df['Confirmed'].pct_change() * 100"
   ]
  },
  {
   "cell_type": "code",
   "execution_count": null,
   "metadata": {},
   "outputs": [],
   "source": [
    "# Download world population dataset\n",
    "# ! #!/bin/bash\n",
    "# ! kaggle datasets download aungdev/world-population-dataset-world-bank\n",
    "\n",
    "country_pop= pd.read_csv(\"world_population_worldbank.csv\", usecols=[\"Country Name\", \"Country Code\", \"2020\"])\n",
    "country_pop.head()"
   ]
  },
  {
   "cell_type": "code",
   "execution_count": null,
   "metadata": {},
   "outputs": [],
   "source": [
    "# get country code and population as at the year 2020\n",
    "df_new= df.join(country_pop.set_index('Country Name'), on='Country/Region')\n",
    "df_new.rename(columns= {\"Country/Region\": \"Country Name\", \"2020\": \"Population\"}, inplace=True)\n",
    "\n"
   ]
  },
  {
   "cell_type": "code",
   "execution_count": null,
   "metadata": {},
   "outputs": [],
   "source": [
    "# Calculate confirmed case per population\n",
    "# getting the case for each population per million\n",
    "df_new['Cases Per Million'] = (df_new.Confirmed / df_new.Population) * 1000000"
   ]
  },
  {
   "cell_type": "code",
   "execution_count": null,
   "metadata": {},
   "outputs": [],
   "source": [
    "df_new.head()"
   ]
  },
  {
   "cell_type": "code",
   "execution_count": null,
   "metadata": {},
   "outputs": [],
   "source": [
    "df_new.tail()"
   ]
  },
  {
   "cell_type": "code",
   "execution_count": null,
   "metadata": {},
   "outputs": [],
   "source": [
    "df_new.isna().sum()"
   ]
  },
  {
   "cell_type": "code",
   "execution_count": null,
   "metadata": {},
   "outputs": [],
   "source": []
  }
 ],
 "metadata": {
  "kaggle": {
   "accelerator": "none",
   "dataSources": [
    {
     "datasetId": 494766,
     "sourceId": 1402868,
     "sourceType": "datasetVersion"
    }
   ],
   "dockerImageVersionId": 30786,
   "isGpuEnabled": false,
   "isInternetEnabled": true,
   "language": "python",
   "sourceType": "notebook"
  },
  "kernelspec": {
   "display_name": "covid",
   "language": "python",
   "name": "python3"
  },
  "language_info": {
   "codemirror_mode": {
    "name": "ipython",
    "version": 3
   },
   "file_extension": ".py",
   "mimetype": "text/x-python",
   "name": "python",
   "nbconvert_exporter": "python",
   "pygments_lexer": "ipython3",
   "version": "3.12.7"
  }
 },
 "nbformat": 4,
 "nbformat_minor": 4
}
